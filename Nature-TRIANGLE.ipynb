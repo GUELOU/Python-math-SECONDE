{
 "cells": [
  {
   "cell_type": "markdown",
   "metadata": {},
   "source": [
    "Ce programme détermine la nature la plus exacte possible d'un triangle dont ont connait les coordonnées des sommets dans un RON"
   ]
  },
  {
   "cell_type": "code",
   "execution_count": 15,
   "metadata": {},
   "outputs": [
    {
     "name": "stdout",
     "output_type": "stream",
     "text": [
      "saisir les coordonnées de A :\n",
      "xa=-7\n",
      "ya=2\n",
      "saisir les coordonnées de B :\n",
      "xb=-2\n",
      "yb=2\n",
      "saisir les coordonnées de C :\n",
      "xc=-2\n",
      "yc=7\n",
      "Calcul des distances \n",
      "AB= 5.0\n",
      "AC= 7.0710678118654755\n",
      "BC= 5.0\n",
      "triangle ISOCELE\n",
      "triangle RECTANGLE\n"
     ]
    }
   ],
   "source": [
    "from math import *\n",
    "\n",
    "print(\"saisir les coordonnées de A :\")\n",
    "xa=eval(input(\"xa=\"))\n",
    "ya=eval(input(\"ya=\"))\n",
    "print(\"saisir les coordonnées de B :\")\n",
    "xb=eval(input(\"xb=\"))\n",
    "yb=eval(input(\"yb=\"))\n",
    "print(\"saisir les coordonnées de C :\")\n",
    "xc=eval(input(\"xc=\"))\n",
    "yc=eval(input(\"yc=\"))\n",
    "\n",
    "print(\"Calcul des distances \")\n",
    "lab=(xb-xa)*(xb-xa)+(yb-ya)*(yb-ya)\n",
    "lac=(xc-xa)*(xc-xa)+(yc-ya)*(yc-ya)\n",
    "lbc=(xb-xc)*(xb-xc)+(yb-yc)*(yb-yc)\n",
    "\n",
    "print (\"AB=\",sqrt(lab))\n",
    "print (\"AC=\",sqrt(lac))\n",
    "print (\"BC=\",sqrt(lbc))\n",
    "\n",
    "if lab==lac and lac==lbc:\n",
    "    print(\"triangle EQUILATERAL\")\n",
    "else:\n",
    "    if lab==lac or lac==lbc or lbc==lab:\n",
    "        print(\"triangle ISOCELE\")\n",
    "    if lab+lac==lbc or lab+lbc==lac or lac+lbc==lac:\n",
    "        print(\"triangle RECTANGLE\")\n",
    "    else:\n",
    "        print(\"triangle SCALENE\")\n",
    "\n"
   ]
  },
  {
   "cell_type": "code",
   "execution_count": null,
   "metadata": {},
   "outputs": [],
   "source": []
  },
  {
   "cell_type": "code",
   "execution_count": null,
   "metadata": {},
   "outputs": [],
   "source": []
  }
 ],
 "metadata": {
  "kernelspec": {
   "display_name": "Python 3",
   "language": "python",
   "name": "python3"
  },
  "language_info": {
   "codemirror_mode": {
    "name": "ipython",
    "version": 3
   },
   "file_extension": ".py",
   "mimetype": "text/x-python",
   "name": "python",
   "nbconvert_exporter": "python",
   "pygments_lexer": "ipython3",
   "version": "3.6.5"
  }
 },
 "nbformat": 4,
 "nbformat_minor": 2
}
