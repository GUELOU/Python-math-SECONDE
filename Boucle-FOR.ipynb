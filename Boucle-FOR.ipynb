{
 "cells": [
  {
   "cell_type": "code",
   "execution_count": null,
   "metadata": {},
   "outputs": [],
   "source": [
    "Ce programme\n",
    "Demande à l utilisateur la valeur nmin et la valeur nmax\n",
    "Puis calcule le carré des entiers de nmin à nmax\n"
   ]
  },
  {
   "cell_type": "code",
   "execution_count": 11,
   "metadata": {},
   "outputs": [
    {
     "name": "stdout",
     "output_type": "stream",
     "text": [
      "minimum=3\n",
      "maximum=23\n",
      "Le carré de  3 est  9\n",
      "Le carré de  4 est  16\n",
      "Le carré de  5 est  25\n",
      "Le carré de  6 est  36\n",
      "Le carré de  7 est  49\n",
      "Le carré de  8 est  64\n",
      "Le carré de  9 est  81\n",
      "Le carré de  10 est  100\n",
      "Le carré de  11 est  121\n",
      "Le carré de  12 est  144\n",
      "Le carré de  13 est  169\n",
      "Le carré de  14 est  196\n",
      "Le carré de  15 est  225\n",
      "Le carré de  16 est  256\n",
      "Le carré de  17 est  289\n",
      "Le carré de  18 est  324\n",
      "Le carré de  19 est  361\n",
      "Le carré de  20 est  400\n",
      "Le carré de  21 est  441\n",
      "Le carré de  22 est  484\n",
      "Le carré de  23 est  529\n"
     ]
    }
   ],
   "source": [
    "from math import *\n",
    "\n",
    "nmin=eval(input(\"minimum=\"))\n",
    "nmax=eval(input(\"maximum=\"))\n",
    "\n",
    "for i in range (nmin,nmax+1) :\n",
    "    print(\"Le carré de \",i,\"est \", i*i)\n",
    "    "
   ]
  },
  {
   "cell_type": "code",
   "execution_count": null,
   "metadata": {},
   "outputs": [],
   "source": []
  }
 ],
 "metadata": {
  "kernelspec": {
   "display_name": "Python 3",
   "language": "python",
   "name": "python3"
  },
  "language_info": {
   "codemirror_mode": {
    "name": "ipython",
    "version": 3
   },
   "file_extension": ".py",
   "mimetype": "text/x-python",
   "name": "python",
   "nbconvert_exporter": "python",
   "pygments_lexer": "ipython3",
   "version": "3.6.5"
  }
 },
 "nbformat": 4,
 "nbformat_minor": 2
}
