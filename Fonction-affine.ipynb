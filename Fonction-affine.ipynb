{
 "cells": [
  {
   "cell_type": "markdown",
   "metadata": {},
   "source": [
    "<h1> Déterminer une fonction affine avec les coordonnées de deux points </h1> \n",
    "<p>L'utilisateur saisit les coordonnées des points A(xa,ya) et B(xb,yb) \n",
    "Le programme calcule le coefficient directeur m, puis calcule l'ordonnée à l'origine. </br>\n",
    "Le programme affiche le coefficient directeur m, puis l'ordonnée à l'origine. </br>\n",
    "    Le programme affiche l'expression de la fonction affine représentée par la droite (AB) </br></p>\n"
   ]
  },
  {
   "cell_type": "code",
   "execution_count": 2,
   "metadata": {},
   "outputs": [
    {
     "name": "stdout",
     "output_type": "stream",
     "text": [
      "Saisir les coordonnées du point A \n",
      "xa=10\n",
      "ya=4\n",
      "Saisir les coordonnées du point B \n",
      "xb=6\n",
      "yb=12\n",
      "Le coefficient directeur est m = -2.0\n",
      "L'ordonnée à l'origine est p= 24.0\n",
      "La fonction affine f est définie par :\n",
      "f(x)= -2.0 x + 24.0\n"
     ]
    }
   ],
   "source": [
    "from math import *\n",
    "#Saisie des corrdonnées des points A et B\n",
    "print(\"Saisir les coordonnées du point A \")\n",
    "xa=eval(input(\"xa=\"))\n",
    "ya=eval(input(\"ya=\"))\n",
    "print(\"Saisir les coordonnées du point B \")\n",
    "xb=eval(input(\"xb=\"))\n",
    "yb=eval(input(\"yb=\"))\n",
    "#Calcul du coefficient directeur\n",
    "m=(yb-ya)/(xb-xa)\n",
    "#Calcul de l'ordonnée à l'origine\n",
    "p=ya-m*xa\n",
    "#Affichage des réponses\n",
    "print(\"Le coefficient directeur est m =\",m)\n",
    "print(\"L'ordonnée à l'origine est p=\",p)\n",
    "print (\"La fonction affine f est définie par :\")\n",
    "if p>0 :\n",
    "    print(\"f(x)=\",m,\"x +\",p)\n",
    "else:\n",
    "    print(\"f(x)=\",m,\"x -\",-p)"
   ]
  },
  {
   "cell_type": "code",
   "execution_count": null,
   "metadata": {},
   "outputs": [],
   "source": []
  }
 ],
 "metadata": {
  "kernelspec": {
   "display_name": "Python 3",
   "language": "python",
   "name": "python3"
  },
  "language_info": {
   "codemirror_mode": {
    "name": "ipython",
    "version": 3
   },
   "file_extension": ".py",
   "mimetype": "text/x-python",
   "name": "python",
   "nbconvert_exporter": "python",
   "pygments_lexer": "ipython3",
   "version": "3.6.5"
  }
 },
 "nbformat": 4,
 "nbformat_minor": 2
}
